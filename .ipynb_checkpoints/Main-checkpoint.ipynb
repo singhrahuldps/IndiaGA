{
 "cells": [
  {
   "cell_type": "code",
   "execution_count": 1,
   "metadata": {},
   "outputs": [],
   "source": [
    "import pandas as pd\n",
    "import numpy as np\n",
    "from bokeh.io import show, output_file\n",
    "from bokeh.models import HoverTool\n",
    "from bokeh.models import GeoJSONDataSource\n",
    "from bokeh.plotting import figure, save\n",
    "import geopandas as gpd"
   ]
  },
  {
   "cell_type": "code",
   "execution_count": 2,
   "metadata": {},
   "outputs": [],
   "source": [
    "def rgbtohex(r,g,b):\n",
    "    x=[]\n",
    "    array=list(zip(r,g,b))\n",
    "    for (r,g,b) in array:\n",
    "        x.append('#%02x%02x%02x' % (r, g, b))\n",
    "    x=np.array(x)\n",
    "    return x"
   ]
  },
  {
   "cell_type": "code",
   "execution_count": 3,
   "metadata": {},
   "outputs": [],
   "source": [
    "def percent_to_color(pct):\n",
    "    max1=max(pct)\n",
    "    min1=min(pct)\n",
    "    denom=max1-min1\n",
    "    x=[]\n",
    "    for item in pct:\n",
    "        x.append((item-min1)/denom)\n",
    "    r=[]\n",
    "    g=[]\n",
    "    b=[]\n",
    "    for val in x:\n",
    "        r.append(255)\n",
    "        g.append(((2000**-val))*220)\n",
    "        b.append(((2000**-val))*152+80)\n",
    "    return np.floor(r).astype('int'),np.floor(g).astype('int'),np.floor(b).astype('int')"
   ]
  },
  {
   "cell_type": "code",
   "execution_count": 4,
   "metadata": {},
   "outputs": [],
   "source": [
    "def state_data(party,party_dict):\n",
    "    states=[]\n",
    "    percent=[]\n",
    "    for state in party_dict[party][0]:\n",
    "        states.append(state)\n",
    "        percent.append(party_dict[party][0][state][1])\n",
    "    return states,percent"
   ]
  },
  {
   "cell_type": "code",
   "execution_count": 5,
   "metadata": {},
   "outputs": [],
   "source": [
    "def save_csv_of_party(party,party_dict):\n",
    "    states,percent=state_data(party,party_dict)\n",
    "    test=pd.DataFrame()\n",
    "    test['State']=states\n",
    "    test['Percent']=percent\n",
    "    return test"
   ]
  },
  {
   "cell_type": "code",
   "execution_count": 6,
   "metadata": {},
   "outputs": [],
   "source": [
    "df=pd.read_csv('India general election results 2014 - Complete List.csv')"
   ]
  },
  {
   "cell_type": "code",
   "execution_count": 7,
   "metadata": {},
   "outputs": [],
   "source": [
    "statename=[]\n",
    "for index,row in df.iterrows():\n",
    "    statename.append(str(row['State']))\n",
    "statename=list(set(statename))"
   ]
  },
  {
   "cell_type": "code",
   "execution_count": 8,
   "metadata": {},
   "outputs": [],
   "source": [
    "votes=[]\n",
    "j=0\n",
    "for index,row in df.iterrows():\n",
    "    votes.append(0)\n",
    "    count=[x for x in row['Votes'].split(',')]\n",
    "    l=len(count)\n",
    "    for i in range(l):\n",
    "        votes[j]+=int(count[i])*(1000**(l-i-1))\n",
    "    j+=1\n",
    "df['Votes']=votes"
   ]
  },
  {
   "cell_type": "code",
   "execution_count": 9,
   "metadata": {},
   "outputs": [],
   "source": [
    "state_dict={}\n",
    "for state in statename:\n",
    "    state_dict[state]=0\n",
    "\n",
    "import copy\n",
    "state_count = copy.deepcopy(state_dict)\n",
    "#state_count=state_dict\n",
    "\n",
    "for index,row in df.iterrows():\n",
    "    state_count[row['State']]+=row['Votes']"
   ]
  },
  {
   "cell_type": "code",
   "execution_count": 10,
   "metadata": {},
   "outputs": [],
   "source": [
    "partyname=[]\n",
    "for item in df['Party']:\n",
    "    partyname.append(str(item))\n",
    "partyname=list(set(partyname))"
   ]
  },
  {
   "cell_type": "code",
   "execution_count": 12,
   "metadata": {},
   "outputs": [],
   "source": [
    "party_dict={}\n",
    "state_for_party={}\n",
    "for state in statename:\n",
    "    state_for_party[state]=[0,0]\n",
    "for party in partyname:\n",
    "    party_dict[party]=[copy.deepcopy(state_for_party),0]"
   ]
  },
  {
   "cell_type": "code",
   "execution_count": 13,
   "metadata": {},
   "outputs": [],
   "source": [
    "for index,row in df.iterrows():\n",
    "    party_dict[row['Party']][0][row['State']][0]+=row['Votes']\n",
    "    party_dict[row['Party']][1]+=row['Votes']"
   ]
  },
  {
   "cell_type": "code",
   "execution_count": 14,
   "metadata": {},
   "outputs": [],
   "source": [
    "for party in party_dict:\n",
    "    for state in party_dict[party][0]:\n",
    "        party_dict[party][0][state][1]=(party_dict[party][0][state][0]*100.0)/state_count[state]"
   ]
  },
  {
   "cell_type": "code",
   "execution_count": 15,
   "metadata": {},
   "outputs": [],
   "source": [
    "grid = gpd.read_file('gadm36_IND_1.shp')"
   ]
  },
  {
   "cell_type": "code",
   "execution_count": 16,
   "metadata": {},
   "outputs": [],
   "source": [
    "tel=grid['geometry'][31]\n",
    "ap=grid['geometry'][1]\n",
    "ap=ap.union(tel)\n",
    "grid=grid.drop([31])\n",
    "grid['geometry'][1]=ap"
   ]
  },
  {
   "cell_type": "code",
   "execution_count": null,
   "metadata": {},
   "outputs": [],
   "source": [
    "#############################\n",
    "#   For sorted Party List   #\n",
    "#############################"
   ]
  },
  {
   "cell_type": "code",
   "execution_count": 23,
   "metadata": {},
   "outputs": [],
   "source": [
    "party_name={}\n",
    "for party in party_dict:\n",
    "    count=party_dict[party][1]\n",
    "    party_name[party] = count"
   ]
  },
  {
   "cell_type": "code",
   "execution_count": 25,
   "metadata": {},
   "outputs": [],
   "source": [
    "party_name_reverse={}\n",
    "for party in party_name:\n",
    "    party_name_reverse[party_name[party]]=party"
   ]
  },
  {
   "cell_type": "code",
   "execution_count": 36,
   "metadata": {},
   "outputs": [],
   "source": [
    "votes_c=list(party_name.values())\n",
    "votes_c.sort(reverse=True)"
   ]
  },
  {
   "cell_type": "code",
   "execution_count": 37,
   "metadata": {},
   "outputs": [],
   "source": [
    "party_name_new=[]\n",
    "for count in votes_c:\n",
    "    party_name_new.append(party_name_reverse[count])"
   ]
  },
  {
   "cell_type": "code",
   "execution_count": null,
   "metadata": {},
   "outputs": [],
   "source": [
    "#import pickle\n",
    "#with open(\"Party.txt\", \"wb\") as fp:   #Pickling\n",
    "#    pickle.dump('\\r\\n'.join(str(e) for e in party_name_new), fp)"
   ]
  },
  {
   "cell_type": "code",
   "execution_count": 17,
   "metadata": {},
   "outputs": [],
   "source": [
    "#############################\n",
    "#       THE CODE BELOW      #\n",
    "# NEEDS TO BE RUN EVERYTIME #\n",
    "#      FOR A NEW PARTY      #\n",
    "#############################"
   ]
  },
  {
   "cell_type": "code",
   "execution_count": 18,
   "metadata": {},
   "outputs": [],
   "source": [
    "test=save_csv_of_party('Indian National Congress')"
   ]
  },
  {
   "cell_type": "code",
   "execution_count": 19,
   "metadata": {},
   "outputs": [],
   "source": [
    "test=test.sort_values('State')\n",
    "test=test.reset_index(drop=True)"
   ]
  },
  {
   "cell_type": "code",
   "execution_count": 20,
   "metadata": {},
   "outputs": [],
   "source": [
    "delhi=pd.DataFrame({\"State\": 'NCT of Delhi', \"Percent\": test.iloc[9]['Percent']}, index=[24])\n",
    "test=test.drop([9]).reset_index(drop=True)"
   ]
  },
  {
   "cell_type": "code",
   "execution_count": 21,
   "metadata": {},
   "outputs": [],
   "source": [
    "test = pd.concat([test.iloc[:24], delhi, test.iloc[24:]]).reset_index(drop=True)"
   ]
  },
  {
   "cell_type": "code",
   "execution_count": 22,
   "metadata": {},
   "outputs": [],
   "source": [
    "grid['Percent']=test['Percent'].values\n",
    "grid['State']=test['State'].values"
   ]
  },
  {
   "cell_type": "code",
   "execution_count": 23,
   "metadata": {},
   "outputs": [],
   "source": [
    "r,g,b=percent_to_color(test['Percent'].values)\n",
    "percent=rgbtohex(r,g,b)\n",
    "grid['percent']=percent"
   ]
  },
  {
   "cell_type": "code",
   "execution_count": 24,
   "metadata": {},
   "outputs": [],
   "source": [
    "source = GeoJSONDataSource(geojson=grid.to_json())"
   ]
  },
  {
   "cell_type": "code",
   "execution_count": 25,
   "metadata": {},
   "outputs": [],
   "source": [
    "p = figure(plot_width=600, plot_height=600,output_backend=\"webgl\")\n",
    "p.patches('xs', 'ys', source=source, fill_color='percent',line_color='black',line_width=0.1)\n",
    "p.add_tools(HoverTool(tooltips=[\n",
    "    ('State', \"@State\"),\n",
    "    ('Percent', '@Percent')], ))\n",
    "output_file(\"map.html\", title=\"Votes Percentage\")\n",
    "show(p)"
   ]
  },
  {
   "cell_type": "code",
   "execution_count": null,
   "metadata": {},
   "outputs": [],
   "source": []
  },
  {
   "cell_type": "code",
   "execution_count": 40,
   "metadata": {},
   "outputs": [],
   "source": [
    "#######################################################"
   ]
  },
  {
   "cell_type": "code",
   "execution_count": 45,
   "metadata": {},
   "outputs": [],
   "source": [
    "from main import *"
   ]
  },
  {
   "cell_type": "code",
   "execution_count": 46,
   "metadata": {},
   "outputs": [],
   "source": [
    "party_dict, grid = initial_run()\n",
    "\n",
    "print_map('Indian National Congress', party_dict, grid)"
   ]
  },
  {
   "cell_type": "code",
   "execution_count": null,
   "metadata": {},
   "outputs": [],
   "source": []
  }
 ],
 "metadata": {
  "kernelspec": {
   "display_name": "Python 3",
   "language": "python",
   "name": "python3"
  },
  "language_info": {
   "codemirror_mode": {
    "name": "ipython",
    "version": 3
   },
   "file_extension": ".py",
   "mimetype": "text/x-python",
   "name": "python",
   "nbconvert_exporter": "python",
   "pygments_lexer": "ipython3",
   "version": "3.6.5"
  }
 },
 "nbformat": 4,
 "nbformat_minor": 2
}
